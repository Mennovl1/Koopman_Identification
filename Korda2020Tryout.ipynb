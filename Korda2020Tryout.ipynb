{
 "cells": [
  {
   "cell_type": "code",
   "execution_count": 2,
   "id": "b03a98ed-b153-4e7f-93be-5ff24728976e",
   "metadata": {},
   "outputs": [
    {
     "name": "stdout",
     "output_type": "stream",
     "text": [
      "[-0.94285714  0.9047619   0.91428571 -0.94285714]\n",
      "[[10.         12.47619048  7.03038549 25.98398445  3.67797294 35.51927188\n",
      "   0.25280159 41.96615301 -3.03696435 46.02755038 -6.0588029 ]]\n"
     ]
    }
   ],
   "source": [
    "%load_ext autoreload\n",
    "%autoreload 2\n",
    "import numpy as np\n",
    "import control\n",
    "\n",
    "H = np.array([[0, 8, 16], [1, 9, 17], [2, 10, 18], [3, 11, 19], [4, 12, 20]])\n",
    "# print(H)\n",
    "\n",
    "\n",
    "lst = np.array([[0], [1], [2], [3], [4]])\n",
    "\n",
    "lambdachoice = np.array([[0, 1]])\n",
    "\n",
    "lambdatimesG = np.linalg.pinv(lst) @ H\n",
    "\n",
    "G = np.linalg.pinv(lambdachoice) @ lambdatimesG\n",
    "\n",
    "# print(np.exp(H) - np.exp(lst @ lambdachoice @ G))\n",
    "\n",
    "def linearSys(N, x0):\n",
    "    '''Return data for N instances of linear system evolution'''\n",
    "    A = np.array([[-0.99, -2, 3, 1], [0, 0.95, -1, 0.8], [0, 0, 0.96, -0.7], [0, 0, 0, -0.99]])/1.05\n",
    "    \n",
    "    \n",
    "    C = np.zeros((1,4))\n",
    "    C[0,0] = 1.0\n",
    "    \n",
    "    x = np.empty((4, N+1))\n",
    "    x[:,0] = x0.flatten()\n",
    "    y = np.empty((1, N+1))\n",
    "    y[:,0] = C @ x0\n",
    "    \n",
    "    for i in range(N):\n",
    "        x[:,i+1] = A @ x[:,i]\n",
    "        y[:,i+1] = C @ x[:,i+1]\n",
    "        \n",
    "        \n",
    "    # print(np.linalg.matrix_rank(control.obsv(A, C)))\n",
    "    print(np.linalg.eigvals(A))\n",
    "    return y\n",
    "x0 = np.array([[10],[-3], [5], [2]]) \n",
    "\n",
    "print(linearSys(10, x0))"
   ]
  },
  {
   "cell_type": "code",
   "execution_count": 3,
   "id": "2a38a57b-8de1-47d4-9812-9c2acad2b492",
   "metadata": {},
   "outputs": [
    {
     "name": "stdout",
     "output_type": "stream",
     "text": [
      "[-0.94285714  0.9047619   0.91428571 -0.94285714]\n"
     ]
    }
   ],
   "source": [
    "# Test MUSIC algorithm, originating as a source-finding algorithm for multiple independent frequence sources\n",
    "\n",
    "N = 101\n",
    "x0 = np.array([[10],[-3], [5], [2]]) \n",
    "\n",
    "H = linearSys(N, x0).T\n",
    "# print(H)\n",
    "\n",
    "# Compute auto-correlation matrix and eigendecomposition\n",
    "Rx = H @ H.T\n",
    "w, v = np.linalg.eig(Rx)\n",
    "# Assume 4 sources\n",
    "N_g = 4\n",
    "\n",
    "idx = w.argsort()[::-1]\n",
    "# print(w)\n",
    "eig_sorted = w[idx]\n",
    "vec_sorted = v[:, idx]\n",
    "\n",
    "# Compute error matrix using noise eigenvectors\n",
    "En = vec_sorted[:,N_g:]\n",
    "\n",
    "def A_lambda(exponent):\n",
    "    return np.vander(np.array([np.exp(exponent)]), N+1, increasing=True).T\n",
    "\n",
    "# A_lambda = lambda lam : np.vander(np.array([np.exp(lam)]), N+1, increasing=True).T\n",
    "P = lambda lam : 1 / (A_lambda(lam).conj().T @ En @ En.conj().T @ A_lambda(lam)).real"
   ]
  },
  {
   "cell_type": "code",
   "execution_count": 120,
   "id": "017949ef-adff-41b6-ae26-46ba40793fe1",
   "metadata": {},
   "outputs": [
    {
     "data": {
      "image/png": "[encoded data removed]",
      "text/plain": [
       "<Figure size 432x288 with 2 Axes>"
      ]
     },
     "metadata": {
      "needs_background": "light"
     },
     "output_type": "display_data"
    }
   ],
   "source": [
    "import matplotlib.pyplot as plt\n",
    "\n",
    "# print(A_lambda(np.array([0,1])))\n",
    "\n",
    "# Generate data\n",
    "x = np.linspace(-2, 2, N)\n",
    "y = x.copy()\n",
    "X,Y = np.meshgrid(x,y)\n",
    "\n",
    "Z = np.empty((N,N), dtype=complex)\n",
    "for i in range(N):\n",
    "    for k in range(N):\n",
    "        Z[i,k] = P(x[i] + y[k]*1j)\n",
    "\n",
    "cs = plt.pcolor(X,Y,np.absolute(Z))\n",
    "plt.colorbar(cs)\n",
    "plt.show()"
   ]
  },
  {
   "cell_type": "code",
   "execution_count": 4,
   "id": "024469bb-f61d-48ec-a493-fbaaab8acb35",
   "metadata": {},
   "outputs": [
    {
     "name": "stdout",
     "output_type": "stream",
     "text": [
      "[-0.94285714  0.9047619   0.91428571 -0.94285714]\n",
      "[-0.94285714  0.9047619   0.91428571 -0.94285714]\n",
      "[-0.94285714  0.9047619   0.91428571 -0.94285714]\n",
      "[-0.94285714  0.9047619   0.91428571 -0.94285714]\n",
      "[-0.94285714  0.9047619   0.91428571 -0.94285714]\n",
      "[-0.94285714  0.9047619   0.91428571 -0.94285714]\n",
      "[-0.94285714  0.9047619   0.91428571 -0.94285714]\n",
      "[-0.94285714  0.9047619   0.91428571 -0.94285714]\n",
      "[-0.94285714  0.9047619   0.91428571 -0.94285714]\n",
      "[-0.94285714  0.9047619   0.91428571 -0.94285714]\n",
      "[125.51100878  29.53834853   2.70655953   0.57117158]\n",
      "[65.55930394 43.96258182  6.68675853  5.00213131]\n",
      "[-0.01524615  0.02277216  0.19055771  0.64974027]\n",
      "[-0.35838379 -0.28326757 -0.66313259  0.25718265]\n",
      "Evolution matrices\n",
      "[[-0.93718094 -0.34219503  0.02377018  0.03937922]\n",
      " [-0.34102972  0.93387846  0.08852242 -0.06088684]\n",
      " [-0.0707035   0.00845707 -0.65343895 -0.47369971]\n",
      " [-0.01261697  0.10091332 -0.72684528  0.59007477]]\n",
      "[[-0.96624972  0.36531389  0.31140939  0.18534122]\n",
      " [ 0.15335956  0.95609249 -0.20808064  0.29890819]\n",
      " [-0.00461822 -0.00152376 -0.59402388 -1.0527411 ]\n",
      " [-0.00687502 -0.01505015 -0.40117805  0.53751444]]\n",
      "[-0.94285714+1.46867448e-08j -0.94285714-1.46867448e-08j\n",
      "  0.91428571+0.00000000e+00j  0.9047619 +0.00000000e+00j]\n",
      "[-0.94285714+1.76827039e-08j -0.94285714-1.76827039e-08j\n",
      "  0.91428571+0.00000000e+00j  0.9047619 +0.00000000e+00j]\n",
      "[-0.94285714+8.23085072e-09j -0.94285714-8.23085072e-09j\n",
      "  0.9047619 +0.00000000e+00j  0.91428571+0.00000000e+00j]\n",
      "(501, 4)\n",
      "(4, 10)\n",
      "Estimate for G\n",
      "[[-2.58073869+6.24756637e-06j -8.51220159+2.52331139e-05j\n",
      "  -2.61122464+7.47397080e-06j -4.53565909+1.36277166e-05j\n",
      "  -1.18327248+2.93247368e-06j -3.25920998+9.17340082e-06j\n",
      "  -3.40946894+1.05558544e-05j -3.58741322+9.30838323e-06j\n",
      "  -4.59442882+1.43359975e-05j -2.33359245+6.60958867e-06j]\n",
      " [-2.58073869-6.24756637e-06j -8.51220159-2.52331139e-05j\n",
      "  -2.61122464-7.47397080e-06j -4.53565909-1.36277166e-05j\n",
      "  -1.18327248-2.93247368e-06j -3.25920998-9.17340082e-06j\n",
      "  -3.40946894-1.05558544e-05j -3.58741322-9.30838323e-06j\n",
      "  -4.59442882-1.43359975e-05j -2.33359245-6.60958867e-06j]\n",
      " [ 3.03913186-1.04040194e-22j  0.60753206-3.30905736e-22j\n",
      "   0.35740545-1.03612935e-22j  1.77606624-1.69135672e-22j\n",
      "   2.42200212-4.30938880e-23j  3.22031055-1.20504831e-22j\n",
      "   1.63884236-1.22840049e-22j  3.19319928-1.42169496e-22j\n",
      "   0.18287744-1.71741330e-22j  3.04296061-8.31640845e-23j]\n",
      " [ 1.67653634+1.48668502e-22j  0.96252726+5.06079886e-22j\n",
      "   0.38593192+1.55644883e-22j  1.11284849+2.63987421e-22j\n",
      "   1.26116986+6.42712334e-23j  1.77161818+1.85120933e-22j\n",
      "   0.94077717+1.96243831e-22j  1.78467974+2.08008675e-22j\n",
      "   0.43378683+2.70960106e-22j  1.57408929+1.29860222e-22j]]\n",
      "Difference between measurement sequence and vandermonde estimate\n",
      "(3.9407462820684575e-13-2.4421115660710817e-11j)\n",
      "(0.0614870142031919-2.7606607662814852e-24j)\n"
     ]
    }
   ],
   "source": [
    "import utils\n",
    "N = 500\n",
    "N_t = 10\n",
    "H = np.empty((N+1, N_t))\n",
    "n = 4\n",
    "for i in range(N_t):\n",
    "    H[:,i] = linearSys(N, np.random.rand(4))\n",
    "\n",
    "U, S, V = np.linalg.svd(H, full_matrices=False)\n",
    "\n",
    "# Estimate of eigenvalues using individual trajectories\n",
    "print(S[:n])\n",
    "\n",
    "# Estimate using time-delay coordinates\n",
    "# H_test = np.array([[1, 2, 3,4, 5, 6, 7]])\n",
    "\n",
    "H_test = H[:,0].reshape((1,N+1))\n",
    "H_test_comp = utils.MakeHankelMatrix(H_test, 8)\n",
    "H_test2 = H[:,1].reshape((1,N+1))\n",
    "h_test_comp2 = utils.MakeHankelMatrix(H_test2, 8)\n",
    "\n",
    "U2, S2, _ = np.linalg.svd(H_test_comp, full_matrices=False)\n",
    "print(S2[:n])\n",
    "\n",
    "U3, S3, _ = np.linalg.svd(h_test_comp2, full_matrices=False)\n",
    "\n",
    "print(U[0,:n])\n",
    "print(U2[0,:n])\n",
    "\n",
    "\n",
    "print(\"Evolution matrices\")\n",
    "\n",
    "print( np.linalg.pinv(U[:N-1, :n]) @ U[1: N, :n])\n",
    "print( np.linalg.pinv(U2[:7, :n]) @ U2[1: 8, :n])\n",
    "\n",
    "s, _ = np.linalg.eig( np.linalg.pinv(U[:N-1, :n]) @ U[1: N, :n])#, full_matrices = False ) \n",
    "s2, _ = np.linalg.eig( np.linalg.pinv(U2[:7, :n]) @ U2[1: 8, :n])#, full_matrices = False ) \n",
    "s3, _ = np.linalg.eig( np.linalg.pinv(U3[:7, :n]) @ U3[1: 8, :n])#, full_matrices = False ) \n",
    "print(s)\n",
    "print(s2)\n",
    "print(s3)\n",
    "V = np.vander(s, N+1, increasing=True).T\n",
    "\n",
    "G = np.linalg.pinv(V) @ H\n",
    "\n",
    "# Regularised Least squares\n",
    "rho = 1\n",
    "G_reg = np.linalg.inv(V.T @ V + rho * np.eye(4)) @ V.T @ H\n",
    "print(V.shape)\n",
    "print(G.shape)\n",
    "\n",
    "print(\"Estimate for G\")\n",
    "print(G_reg)\n",
    "\n",
    "print(\"Difference between measurement sequence and vandermonde estimate\")\n",
    "print(np.mean(H - V @ G))\n",
    "print(np.mean(H - V @ G_reg))"
   ]
  },
  {
   "cell_type": "code",
   "execution_count": 46,
   "id": "841d2d43-9d8d-4e4d-a6f6-68972719b263",
   "metadata": {},
   "outputs": [
    {
     "name": "stdout",
     "output_type": "stream",
     "text": [
      "Computing linear evolution in data to find eigenvalues and eigenfunctions on nonrecurrent set\n",
      "Computed eigenfunction, eigenvalue pairs in 57.7 ms\n",
      "Applying function dictionary on trajectory data\n",
      "Starting computation of linear evolution surface from data\n",
      "Computed eigenfunction surface in 2852.9 ms\n",
      "[[ 1.05025087e-01+1.00670567e-17j -4.61196594e-02+9.38704133e-18j\n",
      "  -8.91509289e-02-2.24431108e-17j ...  2.17562741e-04-6.92294960e-20j\n",
      "  -1.54621912e-03-8.04051979e-19j -1.20329911e-04+1.30097151e-20j]\n",
      " [-4.04484331e-02-1.86336219e-17j  1.58301211e-02-2.78008360e-17j\n",
      "   3.67549510e-02+4.86223877e-17j ... -4.79975972e-05+2.04980657e-19j\n",
      "   1.02420781e-03+1.81172607e-18j -1.00943500e-04-6.35258796e-20j]\n",
      " [-1.32840538e-02+3.77029856e-17j -1.48127875e-02-4.88423031e-17j\n",
      "  -2.04258636e-03-3.28601568e-17j ... -1.27088827e-05+2.86190152e-20j\n",
      "   1.47070056e-05-2.35241853e-20j  9.23679444e-06-1.38572061e-21j]\n",
      " ...\n",
      " [-6.63316328e-05+5.37415500e-05j -1.01210371e-05-3.60144252e-05j\n",
      "   1.75875812e-05-1.51578223e-04j ... -1.37272916e-06+1.40758586e-06j\n",
      "   6.56572049e-07-4.11154563e-06j  2.13489738e-06+2.45083018e-06j]\n",
      " [-6.63316328e-05-5.37415500e-05j -1.01210371e-05+3.60144252e-05j\n",
      "   1.75875812e-05+1.51578223e-04j ... -1.37272916e-06-1.40758586e-06j\n",
      "   6.56572049e-07+4.11154563e-06j  2.13489738e-06-2.45083018e-06j]\n",
      " [ 8.99917529e-04+3.64885145e-17j -2.78039826e-04-1.57839524e-17j\n",
      "  -8.70702165e-04-1.64657904e-17j ...  9.03929227e-06+1.10658463e-19j\n",
      "  -1.31234263e-05-9.14815716e-20j  2.31116221e-07-7.57371016e-20j]]\n"
     ]
    }
   ],
   "source": [
    "import methods\n",
    "import Dictionaries\n",
    "def linearSysFull(N, x0):\n",
    "    '''Return data for N instances of linear system evolution'''\n",
    "    A = np.array([[-0.99, -2, 3, 1], [0, 0.95, -1, 0.8], [0, 0, 0.96, -0.7], [0, 0, 0, -0.99]])/1.05\n",
    "    \n",
    "    \n",
    "    C = np.zeros((1,4))\n",
    "    C[0,0] = 1.0\n",
    "    \n",
    "    x = np.empty((4, N+1))\n",
    "    x[:,0] = x0.flatten()\n",
    "    y = np.empty((1, N+1))\n",
    "    y[:,0] = C @ x0\n",
    "    \n",
    "    for i in range(N):\n",
    "        x[:,i+1] = A @ x[:,i]\n",
    "        y[:,i+1] = C @ x[:,i+1]\n",
    "        \n",
    "    return x\n",
    "\n",
    "\n",
    "N = 500\n",
    "N_t = 100\n",
    "n = 4\n",
    "H = np.empty((N_t, n, N))\n",
    "for i in range(N_t):\n",
    "    H[i,...] = linearSysFull(N-1, np.random.rand(4))\n",
    "\n",
    "f = Dictionaries.monomial_dictionary(n, 5)\n",
    "\n",
    "A, C, lift_fun = methods.compute_Korda2020(H, 10, f)\n",
    "x0 = numpy.array([0.5,0.5])\n",
    "B = numpy.zeros((f.size, 1))\n",
    "u = numpy.zeros(\n",
    "\n",
    "t_out, y_est, y_comp, y_est2 = methods.linear_compare(A, "
   ]
  },
  {
   "cell_type": "code",
   "execution_count": 99,
   "id": "15de3acb-090a-40ce-81fd-f3d5a592efbb",
   "metadata": {},
   "outputs": [
    {
     "name": "stdout",
     "output_type": "stream",
     "text": [
      "Key 'Generate' not found in system construction\n",
      "Key 'Autonomous' not found in system construction\n",
      "Using existing dataset at filepath\n",
      "100\n"
     ]
    }
   ],
   "source": [
    "import System\n",
    "def randomCirc(N, n, r = 0.05):\n",
    "    '''Construct N initial conditions for random points on an n-d sphere of radius r'''\n",
    "    # Normalised n-d Gaussian points result in a uniform point on a sphere\n",
    "    \n",
    "    random_Initialconditions = np.random.randn(N,n)\n",
    "    return r * random_Initialconditions / np.linalg.norm(random_Initialconditions, axis=1).reshape((N,1))\n",
    "\n",
    "\n",
    "KordaEquation = System.differentialEquation(System.forcedvanDerPolSystemKorda, 2, 1)\n",
    "Korda = System.System(KordaEquation, 'testdata/Korda2020.mat', 500, 150, 0.01, Generate=False, Autonomous=True, Initialisation_function = randomCirc)\n",
    "\n",
    "X = Korda.trainingData()\n",
    "f = Dictionaries.thin_plate_rbf_dictionary(2, 100, 2)"
   ]
  },
  {
   "cell_type": "code",
   "execution_count": 98,
   "id": "eab1d6cc-4fc7-4448-a49b-e00a1a7d30e3",
   "metadata": {},
   "outputs": [
    {
     "name": "stdout",
     "output_type": "stream",
     "text": [
      "Computing linear evolution in data to find eigenvalues and eigenfunctions on nonrecurrent set\n",
      "Computed eigenfunction, eigenvalue pairs in 35.5 ms\n",
      "Applying function dictionary on trajectory data\n",
      "Starting computation of linear evolution surface from data\n",
      "Computed eigenfunction surface in 1250.0 ms\n"
     ]
    }
   ],
   "source": [
    "A, C, f_opt = methods.compute_Korda2020(X, 10, f)"
   ]
  },
  {
   "cell_type": "code",
   "execution_count": 97,
   "id": "8fa3aeed-0b98-4591-81c0-91e1e7002aee",
   "metadata": {},
   "outputs": [
    {
     "name": "stdout",
     "output_type": "stream",
     "text": [
      "(20, 20)\n",
      "(2, 20)\n",
      "(20, 102)\n",
      "20\n",
      "1\n"
     ]
    },
    {
     "data": {
      "image/png": "[encoded data removed]",
      "text/plain": [
       "<Figure size 432x288 with 1 Axes>"
      ]
     },
     "metadata": {
      "needs_background": "light"
     },
     "output_type": "display_data"
    },
    {
     "data": {
      "image/png": "[encoded data removed]",
      "text/plain": [
       "<Figure size 432x288 with 1 Axes>"
      ]
     },
     "metadata": {
      "needs_background": "light"
     },
     "output_type": "display_data"
    }
   ],
   "source": [
    "import plot_data\n",
    "x0 = np.array([0.5, 0.5])\n",
    "u = np.zeros((1,500))\n",
    "B = np.zeros((20, 1))\n",
    "\n",
    "t_out, y_est, y_comp, y_est2 = methods.linear_compare(A, B, C, Korda, f_opt, 0, x0, u)\n",
    "\n",
    "plot_data.compareTrajectories(t_out, y_comp, y_est2, Names=[\"RK4(5)\", \"Koopman\"])"
   ]
  },
  {
   "cell_type": "code",
   "execution_count": null,
   "id": "7bae0806-ba41-40c6-b5e5-aed412dba200",
   "metadata": {},
   "outputs": [],
   "source": []
  }
 ],
 "metadata": {
  "kernelspec": {
   "display_name": "Python 3 (ipykernel)",
   "language": "python",
   "name": "python3"
  },
  "language_info": {
   "codemirror_mode": {
    "name": "ipython",
    "version": 3
   },
   "file_extension": ".py",
   "mimetype": "text/x-python",
   "name": "python",
   "nbconvert_exporter": "python",
   "pygments_lexer": "ipython3",
   "version": "3.10.4"
  }
 },
 "nbformat": 4,
 "nbformat_minor": 5
}
